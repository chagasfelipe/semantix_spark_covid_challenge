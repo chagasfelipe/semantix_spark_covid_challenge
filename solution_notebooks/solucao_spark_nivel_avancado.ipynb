{
 "cells": [
  {
   "cell_type": "markdown",
   "metadata": {},
   "source": [
    "## /SEMANTIX_ACADEMY\n",
    "#### /PROJETO_FINAL_SPARK // NÍVEL AVANÇADO // CAMPANHA NACIONAL DE VACINAÇÃO CONTRA CONVID-19\n",
    "    /ALUNO: FELIPE CHAGAS DE SOUZA\n",
    "    /E-MAIL: souza.chagas.felipe@gmail.com\n",
    "    /TREINAMENTO: BIG DATA ENGINNER // 2022"
   ]
  },
  {
   "cell_type": "code",
   "execution_count": 4,
   "metadata": {},
   "outputs": [
    {
     "name": "stderr",
     "output_type": "stream",
     "text": [
      "INFO:LOGGER:Imports e setup do logger realizados!\n"
     ]
    }
   ],
   "source": [
    "import os\n",
    "import requests\n",
    "import logging\n",
    "import json\n",
    "from pyspark.sql.functions import *\n",
    "from pyspark.sql.types import *\n",
    "from pyspark.sql import Row\n",
    "\n",
    "logging.basicConfig(level=logging.INFO)\n",
    "logger = logging.getLogger('LOGGER')\n",
    "logger.info('Imports e setup do logger realizados!')"
   ]
  },
  {
   "cell_type": "code",
   "execution_count": 17,
   "metadata": {},
   "outputs": [],
   "source": [
    "def data_collector():\n",
    "    headers = {'Accept': 'application/json'}\n",
    "    url = 'https://imunizacao-es.saude.gov.br/_search'\n",
    "    user = 'imunizacao_public'\n",
    "    password = 'qlto5t&7r_@+#Tlstigi'\n",
    "    data = {'scroll':'1m','size':'10000'}\n",
    "\n",
    "    return requests.post(url, params=data, headers=headers, auth=(user, password))\n",
    "    logger.info(\"Request a API realizado com sucesso\")"
   ]
  },
  {
   "cell_type": "code",
   "execution_count": 18,
   "metadata": {},
   "outputs": [
    {
     "name": "stderr",
     "output_type": "stream",
     "text": [
      "INFO:LOGGER:Response_api_covid_br carregada no Dataframe df_api_covid_br\n"
     ]
    }
   ],
   "source": [
    "response_api_covid_br = data_collector()\n",
    "\n",
    "df_api_covid_br = spark.createDataFrame([Row(**obj['_source']) for obj in response_api_covid_br.json()['hits']['hits']])\n",
    "logger.info(\"Response_api_covid_br carregada no Dataframe df_api_covid_br\")"
   ]
  },
  {
   "cell_type": "code",
   "execution_count": 21,
   "metadata": {},
   "outputs": [
    {
     "name": "stdout",
     "output_type": "stream",
     "text": [
      "root\n",
      " |-- @timestamp: string (nullable = true)\n",
      " |-- @version: string (nullable = true)\n",
      " |-- data_importacao_datalake: string (nullable = true)\n",
      " |-- data_importacao_rnds: string (nullable = true)\n",
      " |-- document_id: string (nullable = true)\n",
      " |-- dt_deleted: string (nullable = true)\n",
      " |-- estabelecimento_municipio_codigo: string (nullable = true)\n",
      " |-- estabelecimento_municipio_nome: string (nullable = true)\n",
      " |-- estabelecimento_razaoSocial: string (nullable = true)\n",
      " |-- estabelecimento_uf: string (nullable = true)\n",
      " |-- estabelecimento_valor: string (nullable = true)\n",
      " |-- estalecimento_noFantasia: string (nullable = true)\n",
      " |-- id_sistema_origem: string (nullable = true)\n",
      " |-- paciente_dataNascimento: string (nullable = true)\n",
      " |-- paciente_endereco_cep: string (nullable = true)\n",
      " |-- paciente_endereco_coIbgeMunicipio: string (nullable = true)\n",
      " |-- paciente_endereco_coPais: string (nullable = true)\n",
      " |-- paciente_endereco_nmMunicipio: string (nullable = true)\n",
      " |-- paciente_endereco_nmPais: string (nullable = true)\n",
      " |-- paciente_endereco_uf: string (nullable = true)\n",
      " |-- paciente_enumSexoBiologico: string (nullable = true)\n",
      " |-- paciente_id: string (nullable = true)\n",
      " |-- paciente_idade: long (nullable = true)\n",
      " |-- paciente_nacionalidade_enumNacionalidade: string (nullable = true)\n",
      " |-- paciente_racaCor_codigo: string (nullable = true)\n",
      " |-- paciente_racaCor_valor: string (nullable = true)\n",
      " |-- sistema_origem: string (nullable = true)\n",
      " |-- status: string (nullable = true)\n",
      " |-- vacina_categoria_codigo: string (nullable = true)\n",
      " |-- vacina_categoria_nome: string (nullable = true)\n",
      " |-- vacina_codigo: string (nullable = true)\n",
      " |-- vacina_dataAplicacao: string (nullable = true)\n",
      " |-- vacina_descricao_dose: string (nullable = true)\n",
      " |-- vacina_fabricante_nome: string (nullable = true)\n",
      " |-- vacina_fabricante_referencia: string (nullable = true)\n",
      " |-- vacina_grupoAtendimento_codigo: string (nullable = true)\n",
      " |-- vacina_grupoAtendimento_nome: string (nullable = true)\n",
      " |-- vacina_lote: string (nullable = true)\n",
      " |-- vacina_nome: string (nullable = true)\n",
      " |-- vacina_numDose: string (nullable = true)\n",
      "\n"
     ]
    }
   ],
   "source": [
    "df_api_covid_br.printSchema()"
   ]
  },
  {
   "cell_type": "code",
   "execution_count": 42,
   "metadata": {},
   "outputs": [
    {
     "name": "stdout",
     "output_type": "stream",
     "text": [
      "/IDADE_MEDIA_POR_UF_MUNICIPIO\n",
      "+--------+-------------------+--------------------+\n",
      "|sigla_uf|nome_municipio     |idade_media_vacinado|\n",
      "+--------+-------------------+--------------------+\n",
      "|null    |null               |26.50               |\n",
      "|AC      |FEIJO              |20.75               |\n",
      "|AC      |MANOEL URBANO      |49.00               |\n",
      "|AC      |PORTO ACRE         |14.00               |\n",
      "|AC      |PORTO WALTER       |27.00               |\n",
      "|AC      |RIO BRANCO         |32.59               |\n",
      "|AC      |SANTA ROSA DO PURUS|12.00               |\n",
      "|AC      |SENA MADUREIRA     |11.67               |\n",
      "|AC      |SENADOR GUIOMARD   |8.00                |\n",
      "|AC      |XAPURI             |7.00                |\n",
      "|AL      |ARAPIRACA          |25.33               |\n",
      "|AL      |BATALHA            |27.00               |\n",
      "|AL      |BELEM              |21.00               |\n",
      "|AL      |BOCA DA MATA       |55.00               |\n",
      "|AL      |CAMPESTRE          |40.00               |\n",
      "|AL      |CHA PRETA          |36.00               |\n",
      "|AL      |COITE DO NOIA      |10.00               |\n",
      "|AL      |CORURIPE           |5.00                |\n",
      "|AL      |CRAIBAS            |24.50               |\n",
      "|AL      |DELMIRO GOUVEIA    |9.00                |\n",
      "+--------+-------------------+--------------------+\n",
      "only showing top 20 rows\n",
      "\n"
     ]
    }
   ],
   "source": [
    "view_idade_media_uf = df_api_covid_br.groupBy(col(\"estabelecimento_uf\").alias(\"sigla_uf\")\\\n",
    "                                     , col(\"estabelecimento_municipio_nome\").alias(\"nome_municipio\"))\\\n",
    "                .agg(format_number(avg(col(\"paciente_idade\")),2).alias(\"idade_media_vacinado\")).sort(asc(\"sigla_uf\")\\\n",
    "                                                                                                     , asc(\"nome_municipio\"))\n",
    "\n",
    "print(\"/IDADE_MEDIA_POR_UF_MUNICIPIO\")\n",
    "view_idade_media_uf.show(truncate=False)"
   ]
  },
  {
   "cell_type": "code",
   "execution_count": 47,
   "metadata": {},
   "outputs": [
    {
     "name": "stdout",
     "output_type": "stream",
     "text": [
      "/QTDE_APLICACAO_VACINA\n",
      "+----------------------+----+\n",
      "|vacina                |qtde|\n",
      "+----------------------+----+\n",
      "|ASTRAZENECA           |17  |\n",
      "|ASTRAZENECA/FIOCRUZ   |2149|\n",
      "|JANSSEN               |2348|\n",
      "|PFIZER                |3051|\n",
      "|Pendente Identificação|1408|\n",
      "|SINOVAC/BUTANTAN      |1027|\n",
      "+----------------------+----+\n",
      "\n"
     ]
    }
   ],
   "source": [
    "view_qtde_aplicacao_vacina = df_api_covid_br.groupBy(col(\"vacina_fabricante_nome\").alias(\"vacina\"))\\\n",
    "                                            .agg(count(col(\"vacina_descricao_dose\"))\\\n",
    "                                            .alias(\"qtde\")).sort(asc(\"vacina\"))\n",
    "\n",
    "print(\"/QTDE_APLICACAO_VACINA\")\n",
    "view_qtde_aplicacao_vacina.show(truncate=False)"
   ]
  },
  {
   "cell_type": "code",
   "execution_count": 51,
   "metadata": {},
   "outputs": [
    {
     "name": "stdout",
     "output_type": "stream",
     "text": [
      "/QTDE_APLICACAO_VACINA_POR_UF\n",
      "+--------+----------------------+----+\n",
      "|sigla_uf|vacina                |qtde|\n",
      "+--------+----------------------+----+\n",
      "|null    |PFIZER                |2   |\n",
      "|AC      |PFIZER                |20  |\n",
      "|AC      |JANSSEN               |1   |\n",
      "|AC      |SINOVAC/BUTANTAN      |5   |\n",
      "|AC      |Pendente Identificação|9   |\n",
      "|AL      |Pendente Identificação|38  |\n",
      "|AL      |SINOVAC/BUTANTAN      |5   |\n",
      "|AL      |PFIZER                |94  |\n",
      "|AL      |JANSSEN               |2   |\n",
      "|AM      |ASTRAZENECA           |2   |\n",
      "|AM      |Pendente Identificação|24  |\n",
      "|AM      |JANSSEN               |10  |\n",
      "|AM      |PFIZER                |128 |\n",
      "|AM      |SINOVAC/BUTANTAN      |35  |\n",
      "|AM      |ASTRAZENECA/FIOCRUZ   |35  |\n",
      "|AP      |PFIZER                |17  |\n",
      "|AP      |SINOVAC/BUTANTAN      |6   |\n",
      "|AP      |ASTRAZENECA/FIOCRUZ   |1   |\n",
      "|AP      |Pendente Identificação|9   |\n",
      "|BA      |JANSSEN               |147 |\n",
      "+--------+----------------------+----+\n",
      "only showing top 20 rows\n",
      "\n"
     ]
    }
   ],
   "source": [
    "view_qtde_aplicacao_vacina_uf = df_api_covid_br.groupBy( col(\"estabelecimento_uf\").alias(\"sigla_uf\")\\\n",
    "                                                    , col(\"vacina_fabricante_nome\").alias(\"vacina\"))\\\n",
    "                                            .agg(count(col(\"vacina_descricao_dose\"))\\\n",
    "                                            .alias(\"qtde\")).sort(asc(\"sigla_uf\"))\n",
    "\n",
    "print(\"/QTDE_APLICACAO_VACINA_POR_UF\")\n",
    "view_qtde_aplicacao_vacina_uf.show(truncate=False)"
   ]
  },
  {
   "cell_type": "code",
   "execution_count": 81,
   "metadata": {},
   "outputs": [
    {
     "name": "stdout",
     "output_type": "stream",
     "text": [
      "/IDADE_MEDIA_POR_VACINA\n",
      "+----------------------+--------------------+\n",
      "|vacina                |idade_media_vacinado|\n",
      "+----------------------+--------------------+\n",
      "|ASTRAZENECA           |54.18               |\n",
      "|ASTRAZENECA/FIOCRUZ   |42.43               |\n",
      "|JANSSEN               |52.79               |\n",
      "|PFIZER                |42.14               |\n",
      "|Pendente Identificação|8.36                |\n",
      "|SINOVAC/BUTANTAN      |21.83               |\n",
      "+----------------------+--------------------+\n",
      "\n"
     ]
    }
   ],
   "source": [
    "view_idade_media_vacina = df_api_covid_br.groupBy(col(\"vacina_fabricante_nome\").alias(\"vacina\"))\\\n",
    "                .agg(format_number(avg(col(\"paciente_idade\")),2).alias(\"idade_media_vacinado\")).sort(asc(\"vacina\"))\n",
    "\n",
    "print(\"/IDADE_MEDIA_POR_VACINA\")\n",
    "view_idade_media_vacina.show(truncate=False)"
   ]
  },
  {
   "cell_type": "code",
   "execution_count": 77,
   "metadata": {},
   "outputs": [
    {
     "name": "stdout",
     "output_type": "stream",
     "text": [
      "/BALANÇO_QTDE_POR_DOSE\n",
      "+--------------+----+\n",
      "|descricao_dose|qtde|\n",
      "+--------------+----+\n",
      "|1ª Dose       |859 |\n",
      "|1º Reforço    |272 |\n",
      "|2ª Dose       |2204|\n",
      "|2º Reforço    |996 |\n",
      "|3ª Dose       |117 |\n",
      "|4ª Dose       |293 |\n",
      "|Dose          |37  |\n",
      "|Dose Adicional|329 |\n",
      "|Reforço       |4892|\n",
      "|Única         |1   |\n",
      "+--------------+----+\n",
      "\n"
     ]
    }
   ],
   "source": [
    "view_balanco_doses = df_api_covid_br.groupBy(col(\"vacina_descricao_dose\").alias(\"descricao_dose\"))\\\n",
    "        .agg(countDistinct(col(\"paciente_id\")).alias(\"qtde\"),\\\n",
    "            ).sort(asc(\"descricao_dose\"))\n",
    "\n",
    "print(\"/BALANÇO_QTDE_POR_DOSE\")\n",
    "view_balanco_doses.show(truncate=False)"
   ]
  },
  {
   "cell_type": "code",
   "execution_count": 80,
   "metadata": {},
   "outputs": [
    {
     "name": "stdout",
     "output_type": "stream",
     "text": [
      "/TOP_10_DATA_APLICACAO\n",
      "+----------+----+\n",
      "|data      |qtde|\n",
      "+----------+----+\n",
      "|20/04/2022|2193|\n",
      "|12/04/2022|1106|\n",
      "|19/04/2022|610 |\n",
      "|13/04/2022|529 |\n",
      "|11/04/2022|341 |\n",
      "|18/04/2022|266 |\n",
      "|21/04/2022|221 |\n",
      "|08/04/2022|200 |\n",
      "|07/04/2022|158 |\n",
      "|01/04/2022|135 |\n",
      "+----------+----+\n",
      "only showing top 10 rows\n",
      "\n"
     ]
    }
   ],
   "source": [
    "view_top_data_aplicacao = df_api_covid_br.groupBy(date_format(col(\"vacina_dataAplicacao\"), \"dd/MM/yyyy\").alias(\"data\"))\\\n",
    "        .agg(countDistinct(col(\"paciente_id\")).alias(\"qtde\"),\\\n",
    "            ).sort(desc(\"qtde\"))\n",
    "\n",
    "print(\"/TOP_10_DATA_APLICACAO\")\n",
    "view_top_data_aplicacao.show(10, truncate=False)"
   ]
  },
  {
   "cell_type": "code",
   "execution_count": 83,
   "metadata": {},
   "outputs": [
    {
     "name": "stderr",
     "output_type": "stream",
     "text": [
      "INFO:LOGGER:Salvando as views como tabelas HIVE...\n"
     ]
    },
    {
     "name": "stdout",
     "output_type": "stream",
     "text": [
      "Found 7 items\n",
      "Found 29 items\n",
      "Found 29 items\n",
      "Found 7 items\n",
      "Found 11 items\n",
      "Found 64 items\n"
     ]
    },
    {
     "name": "stderr",
     "output_type": "stream",
     "text": [
      "INFO:LOGGER:Views foram salvas com sucesso!\n"
     ]
    }
   ],
   "source": [
    "logger.info(\"Salvando as views como tabelas HIVE...\")\n",
    "\n",
    "view_idade_media_uf.write.saveAsTable(\"tb_idade_media_uf\", mode=\"overwrite\")\n",
    "view_qtde_aplicacao_vacina.write.saveAsTable(\"tb_qtde_aplicacao_vacina\", mode=\"overwrite\")\n",
    "view_qtde_aplicacao_vacina_uf.write.saveAsTable(\"tb_qtde_aplicacao_vacina_uf\", mode=\"overwrite\")\n",
    "view_idade_media_vacina.write.saveAsTable(\"tb_idade_media_vacina\", mode=\"overwrite\")\n",
    "view_balanco_doses.write.saveAsTable(\"tb_balanco_doses\", mode=\"overwrite\")\n",
    "view_top_data_aplicacao.write.saveAsTable(\"tb_top_data_aplicacao\", mode=\"overwrite\")\n",
    "\n",
    "\n",
    "!hdfs dfs -ls /user/hive/warehouse/tb_idade_media_uf | head -1\n",
    "!hdfs dfs -ls /user/hive/warehouse/tb_qtde_aplicacao_vacina | head -1\n",
    "!hdfs dfs -ls /user/hive/warehouse/tb_qtde_aplicacao_vacina_uf | head -1\n",
    "!hdfs dfs -ls /user/hive/warehouse/tb_idade_media_vacina | head -1\n",
    "!hdfs dfs -ls /user/hive/warehouse/tb_balanco_doses | head -1\n",
    "!hdfs dfs -ls /user/hive/warehouse/tb_top_data_aplicacao | head -1\n",
    "\n",
    "logger.info(\"Views foram salvas com sucesso!\")"
   ]
  },
  {
   "cell_type": "markdown",
   "metadata": {},
   "source": [
    "### /COLETA DE TODOS OS DADOS ATRAVÉS DA API:\n",
    "#### LAÇO PARA COLETAR TODOS OS REGISTROS PELA API ATRAVÉS DO SCROLL_ID E HITS RESTANTES\n",
    "##### PRECISA DE OTIMIZAÇÃO PARA REALIZAR A EXECUÇÃO, TALVEZ CRIAR METÓDO DE CACHE/TEMP TABLE\n",
    "\n",
    "```\n",
    "CÓDIGO ABAIXO:\n",
    "```"
   ]
  },
  {
   "cell_type": "code",
   "execution_count": null,
   "metadata": {},
   "outputs": [],
   "source": [
    "def get_scroll_id(url, headers, user, password, params):\n",
    "\n",
    "    response_scroll_id = requests.get(url, params=params, headers=headers, auth=(user, password))\n",
    "    \n",
    "    if response_scroll_id.status_code != 200:\n",
    "        raise Exception(response_scroll_id.status_code, response_scroll_id.text)\n",
    "        \n",
    "    return response_scroll_id.json()['_scroll_id']\n",
    "    \n",
    "def total_hits(url, headers, user, password, params):\n",
    "    \n",
    "    response_total_hits = requests.get(url, params=params, headers=headers, auth=(user, password))\n",
    "    \n",
    "    if response_total_hits.status_code != 200:\n",
    "        raise Exception(response_total_hits.status_code, response_total_hits.text)\n",
    "    \n",
    "    return response_total_hits.json()['hits']['total']['value']\n",
    "    \n",
    "    \n",
    "def connect_api(url, headers, user, password, params):\n",
    "    \n",
    "    response = requests.post(url, params=params, headers=headers, auth=(user, password))\n",
    "    print(response.status_code)\n",
    "    \n",
    "    if response.status_code != 200:\n",
    "        raise Exception(response.status_code, response.text)\n",
    "    return response.json()\n",
    "\n",
    "\n",
    "def data_collector(url, url_scroll_id, headers, data, user, password, params, params_scroll_id, total_hits, scroll_id=\"\"):\n",
    "    scroll_limit = 31\n",
    "    rows = []\n",
    "    #total_hits = total_hits(url, headers, user, password, params)\n",
    "    \n",
    "    if scroll_id:\n",
    "        full_params = {'scroll':'1m', 'scroll_id': scroll_id}\n",
    "    else:\n",
    "        full_params = {'scroll':'1m', 'scroll_id': get_scroll_id(url_scroll_id, headers, user, password, params_scroll_id)}\n",
    "\n",
    "    data = connect_api(url, headers, user, password, full_params)\n",
    "\n",
    "    for page_number in range(scroll_limit): #range(total_hits)\n",
    "\n",
    "        rows = requests.post(url, params=full_params, headers=headers, auth=(user, password))\n",
    " \n",
    "    return rows\n",
    "\n",
    "\n",
    "def main():\n",
    "    headers = {'Accept': 'application/json'}\n",
    "    url = 'https://imunizacao-es.saude.gov.br/_search/scroll'\n",
    "    user = 'imunizacao_public'\n",
    "    password = 'qlto5t&7r_@+#Tlstigi'\n",
    "    params = {'scroll':'1m', 'scroll_id': get_scroll_id()}\n",
    "\n",
    "    for json_response in paginate(url, headers, data, user, password, params):\n",
    "       print(json.dumps(json_response, indent=4, sort_keys=True))\n",
    "\n",
    "\n",
    "def execute_data_collector():\n",
    "    url_basic = 'https://imunizacao-es.saude.gov.br/_search'\n",
    "    params_basic = {'scroll':'1m'}\n",
    "    headers = {'Accept': 'application/json'}\n",
    "    url_scroll = 'https://imunizacao-es.saude.gov.br/_search/scroll'\n",
    "    user = 'imunizacao_public'\n",
    "    password = 'qlto5t&7r_@+#Tlstigi'\n",
    "    params = {'scroll':'1m', 'scroll_id': get_scroll_id(url_basic, headers, user, password, params_basic)}\n",
    "    \n",
    "    return data_collector(url_scroll, url_basic, headers, data, user, password, params, params_basic, total_hits(url_basic, headers, user, password, params_basic))\n",
    "\n",
    "response_rows_api = execute_data_collector()\n",
    "\n",
    "df_covid_br_api = spark.createDataFrame([Row(**obj['_source']) for obj in response_rows_api.json()['hits']['hits']])\n",
    "\n",
    "df_covid_br_api.count()\n",
    "df_covid_br_api.printSchema()"
   ]
  }
 ],
 "metadata": {
  "kernelspec": {
   "display_name": "PySpark",
   "language": "python",
   "name": "pyspark"
  },
  "language_info": {
   "codemirror_mode": {
    "name": "ipython",
    "version": 3
   },
   "file_extension": ".py",
   "mimetype": "text/x-python",
   "name": "python",
   "nbconvert_exporter": "python",
   "pygments_lexer": "ipython3",
   "version": "3.6.10"
  }
 },
 "nbformat": 4,
 "nbformat_minor": 2
}
